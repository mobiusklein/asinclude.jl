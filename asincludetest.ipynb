{
 "cells": [
  {
   "cell_type": "code",
   "execution_count": 102,
   "metadata": {
    "collapsed": false
   },
   "outputs": [
    {
     "name": "stderr",
     "output_type": "stream",
     "text": [
      "Warning: replacing module asinclude\n"
     ]
    }
   ],
   "source": [
    "include(\"asinclude.jl\")"
   ]
  },
  {
   "cell_type": "code",
   "execution_count": 103,
   "metadata": {
    "collapsed": false
   },
   "outputs": [
    {
     "name": "stderr",
     "output_type": "stream",
     "text": [
      "Warning: replacing module mymodule\n"
     ]
    },
    {
     "name": "stdout",
     "output_type": "stream",
     "text": [
      "Embedding exported names\n",
      "MyType(2,5)\n",
      "1\n",
      "2\n",
      "3\n",
      "4\n",
      "5\n"
     ]
    },
    {
     "name": "stderr",
     "output_type": "stream",
     "text": [
      "Warning: replacing module mymodule\n"
     ]
    }
   ],
   "source": [
    "## Demo\n",
    "\n",
    "asinclude.@asinclude(\"mymodule\", quote\n",
    "    import Base.start\n",
    "    import Base.next\n",
    "    import Base.done\n",
    "\n",
    "    export MyType, IterType, bar\n",
    "\n",
    "    type MyType\n",
    "        x\n",
    "        baz::Int\n",
    "    end\n",
    "\n",
    "    bar(x) = 2x\n",
    "    show(io, a::MyType) = print(io, \"MyType $(a.baz)\")\n",
    "    \n",
    "    type IterType\n",
    "    baz\n",
    "    end\n",
    "\n",
    "    function start(c::IterType)\n",
    "        N = c.baz\n",
    "        state = 0\n",
    "        return state\n",
    "    end\n",
    "\n",
    "    function next(c::IterType, state)\n",
    "        return state + 1, state + 1\n",
    "    end\n",
    "\n",
    "    function done(c::IterType, state)\n",
    "        if isempty(state)\n",
    "            return true\n",
    "        end\n",
    "        state += 1\n",
    "        i = 1\n",
    "        if state > c.baz\n",
    "            return true\n",
    "        end\n",
    "        return false\n",
    "    end\n",
    "end)\n",
    "\n",
    "println(mymodule.MyType(2, 5))\n",
    "for i = mymodule.IterType(5)\n",
    "    println(i)\n",
    "end"
   ]
  },
  {
   "cell_type": "code",
   "execution_count": 104,
   "metadata": {
    "collapsed": false
   },
   "outputs": [
    {
     "name": "stderr",
     "output_type": "stream",
     "text": [
      "Warning: replacing module mymodule2\n"
     ]
    },
    {
     "name": "stdout",
     "output_type": "stream",
     "text": [
      "Embedding exported names\n"
     ]
    },
    {
     "name": "stderr",
     "output_type": "stream",
     "text": [
      "Warning: replacing module mymodule2\n"
     ]
    },
    {
     "ename": "LoadError",
     "evalue": "`MyType` has no method matching MyType(::Int64)\nwhile loading In[104], in expression starting on line 39",
     "output_type": "error",
     "traceback": [
      "`MyType` has no method matching MyType(::Int64)\nwhile loading In[104], in expression starting on line 39",
      ""
     ]
    }
   ],
   "source": [
    "asinclude.@asinclude(\"mymodule2\", quote\n",
    "    import Base: start, done, next\n",
    "    export MyType, IterType, bar\n",
    "\n",
    "    type MyType\n",
    "        baz::Int\n",
    "    end\n",
    "\n",
    "    bar(x) = 2x\n",
    "    show(io, a::MyType) = print(io, \"MyType $(a.baz)\")\n",
    "    \n",
    "    type IterType\n",
    "        baz\n",
    "    end\n",
    "\n",
    "    function start(c::IterType)\n",
    "        N = c.baz\n",
    "        state = 0\n",
    "        return state\n",
    "    end\n",
    "\n",
    "    function next(c::IterType, state)\n",
    "        return state + 1, state + 1\n",
    "    end\n",
    "\n",
    "    function done(c::IterType, state)\n",
    "        if isempty(state)\n",
    "            return true\n",
    "        end\n",
    "        state += 1\n",
    "        i = 1\n",
    "        if state > c.baz\n",
    "            return true\n",
    "        end\n",
    "        return false\n",
    "    end\n",
    "end)\n",
    "\n",
    "println(mymodule.MyType(10))\n",
    "for i = mymodule.IterType(5)\n",
    "    println(i)\n",
    "end"
   ]
  },
  {
   "cell_type": "code",
   "execution_count": 75,
   "metadata": {
    "collapsed": false
   },
   "outputs": [],
   "source": [
    "macro dynamic_import(modules)\n",
    "           (modules = eval(modules))::Vector{Symbol}\n",
    "           ex = Expr(:toplevel)\n",
    "           for m in modules\n",
    "               push!(ex.args, Expr(:import, m))\n",
    "           end\n",
    "           return ex\n",
    "       end"
   ]
  },
  {
   "cell_type": "code",
   "execution_count": 81,
   "metadata": {
    "collapsed": false
   },
   "outputs": [],
   "source": [
    "eval(Expr(:import, symbol(\"mymodule\")))"
   ]
  },
  {
   "cell_type": "code",
   "execution_count": 85,
   "metadata": {
    "collapsed": false
   },
   "outputs": [
    {
     "data": {
      "text/plain": [
       "4-element Array{Symbol,1}:\n",
       " :IterType\n",
       " :MyType  \n",
       " :mymodule\n",
       " :bar     "
      ]
     },
     "execution_count": 85,
     "metadata": {},
     "output_type": "execute_result"
    }
   ],
   "source": [
    "names(eval(symbol(\"mymodule\")))"
   ]
  },
  {
   "cell_type": "code",
   "execution_count": 127,
   "metadata": {
    "collapsed": false
   },
   "outputs": [
    {
     "name": "stdout",
     "output_type": "stream",
     "text": [
      "toplevel, \n",
      "($(Expr(\n"
     ]
    },
    {
     "ename": "LoadError",
     "evalue": "key not found: \"toplevel, \"\nwhile loading In[127], in expression starting on line 4",
     "output_type": "error",
     "traceback": [
      "key not found: \"toplevel, \"\nwhile loading In[127], in expression starting on line 4",
      "",
      " in getindex at dict.jl:617",
      " in anonymous at In[126]:18"
     ]
    }
   ],
   "source": [
    "toks = split(string(quote\n",
    "    import Base: start, next\n",
    "    end), ':')[3:end]\n",
    "specialform_handler[\"toplevel\"](toks...)"
   ]
  },
  {
   "cell_type": "code",
   "execution_count": 126,
   "metadata": {
    "collapsed": false
   },
   "outputs": [
    {
     "data": {
      "text/plain": [
       "Dict{Any,Any} with 3 entries:\n",
       "  \"export\"   => (anonymous function)\n",
       "  \"toplevel\" => (anonymous function)\n",
       "  \"import\"   => (anonymous function)"
      ]
     },
     "execution_count": 126,
     "metadata": {},
     "output_type": "execute_result"
    }
   ],
   "source": [
    "specialform_handler = {\n",
    "    \"import\" => (args...) -> begin\n",
    "    args = map(x -> replace(x, r\",|\\s|\\)|(#.*$)\", \"\"), args)\n",
    "    args = filter(x->length(x)>0, [args...])\n",
    "    return (args[1] * \" \" * join(args[2:end], '.'))\n",
    "end,\n",
    "    \"export\" => (args...) -> begin\n",
    "    args = map(x -> replace(x, r\",|\\s|\\)|(#.*$)\", \"\"), args)\n",
    "    args = filter(x->length(x)>0, [args...])\n",
    "    return (args[1] * \" \" * join(args[2:end], ','))\n",
    "end,\n",
    "    \"toplevel\" => (args...) -> begin\n",
    "    args = map(x -> replace(x, r\",|\\s|\\)|(#.*$)\", \"\"), args)\n",
    "    entries = String[]\n",
    "    currententry = String[]\n",
    "    for token in args\n",
    "        println(token)\n",
    "        if contains(token, \"\\$\")\n",
    "            push!(entries, specialform_handler[currententry[1]](currententry...))\n",
    "            currententry = []\n",
    "        end\n",
    "        push!(currententry, token)\n",
    "    end\n",
    "    return join(map(x -> specialform_handler[x[1]](x), entries), \"\\n\")\n",
    "end\n",
    "}"
   ]
  },
  {
   "cell_type": "code",
   "execution_count": 34,
   "metadata": {
    "collapsed": false
   },
   "outputs": [
    {
     "name": "stdout",
     "output_type": "stream",
     "text": [
      "data\n"
     ]
    }
   ],
   "source": [
    "for n in [:data]\n",
    "    println(n)\n",
    "end"
   ]
  },
  {
   "cell_type": "code",
   "execution_count": 125,
   "metadata": {
    "collapsed": false
   },
   "outputs": [
    {
     "ename": "LoadError",
     "evalue": "`convert` has no method matching convert(::Type{String}, ::Array{ASCIIString,1})\nwhile loading In[125], in expression starting on line 2",
     "output_type": "error",
     "traceback": [
      "`convert` has no method matching convert(::Type{String}, ::Array{ASCIIString,1})\nwhile loading In[125], in expression starting on line 2",
      "",
      " in push! at array.jl:460"
     ]
    }
   ],
   "source": [
    "aas = Array(String, 2)\n",
    "push!(aas, [\"hello\";])"
   ]
  },
  {
   "cell_type": "code",
   "execution_count": 9,
   "metadata": {
    "collapsed": false
   },
   "outputs": [
    {
     "data": {
      "text/plain": [
       "false"
      ]
     },
     "execution_count": 9,
     "metadata": {},
     "output_type": "execute_result"
    }
   ],
   "source": [
    "∈([1,2,3], [4])"
   ]
  },
  {
   "cell_type": "code",
   "execution_count": null,
   "metadata": {
    "collapsed": true
   },
   "outputs": [],
   "source": []
  }
 ],
 "metadata": {
  "kernelspec": {
   "display_name": "Julia 0.3.8",
   "language": "julia",
   "name": "julia-0.3"
  },
  "language_info": {
   "name": "julia",
   "version": "0.3.8"
  }
 },
 "nbformat": 4,
 "nbformat_minor": 0
}
